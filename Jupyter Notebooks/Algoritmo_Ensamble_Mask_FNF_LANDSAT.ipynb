{
 "cells": [
  {
   "cell_type": "markdown",
   "metadata": {},
   "source": [
    "## Algoritmo Ensamble Clasificación de Cobertura\n",
    "\n",
    "- En el presente notebook se encuentran el proceso de clasificación de cobertura a partir de dos algoritmos diferentes Bagging y Voting de la librería Sklearn\n",
    "\n",
    "- Algoritmo desarrollado por Ing. Yilsey Benavides Miranda para consulta directa al Cubo de Datos de Imágenes de Satelite de Colombia  - IDEAM , empleando las unidades de almacenamiento de Landsat 7 y 8,DEM, ALOS PALSAR ingestadas en el CDCol-IDEAM."
   ]
  },
  {
   "cell_type": "code",
   "execution_count": 4,
   "metadata": {},
   "outputs": [],
   "source": [
    "# Supress Warning \n",
    "import warnings\n",
    "warnings.filterwarnings('ignore')"
   ]
  },
  {
   "cell_type": "code",
   "execution_count": 5,
   "metadata": {},
   "outputs": [],
   "source": [
    "execID=6\n",
    "algorithm = \"ensemble_test\"\n",
    "version= \"1.0\""
   ]
  },
  {
   "cell_type": "markdown",
   "metadata": {},
   "source": [
    "##  Librerias "
   ]
  },
  {
   "cell_type": "code",
   "execution_count": 6,
   "metadata": {},
   "outputs": [],
   "source": [
    "import datacube\n",
    "from datacube.storage import netcdf_writer\n",
    "from datacube.model import Variable, CRS\n",
    "import os\n",
    "import re\n",
    "import xarray as xr\n",
    "import numpy as np\n",
    "import gdal\n",
    "from sklearn.ensemble import RandomForestClassifier,VotingClassifier\n",
    "from sklearn import metrics\n",
    "from sklearn.metrics import cohen_kappa_score\n",
    "import  sklearn \n",
    "from sklearn import tree\n",
    "from sklearn import svm \n",
    "from sklearn.svm import SVC\n",
    "from sklearn import model_selection\n",
    "from mlxtend.classifier import StackingClassifier\n",
    "from sklearn.linear_model import LogisticRegression\n",
    "from sklearn.ensemble import GradientBoostingClassifier"
   ]
  },
  {
   "cell_type": "code",
   "execution_count": 7,
   "metadata": {},
   "outputs": [],
   "source": [
    "import numpy as np\n",
    "import matplotlib.pyplot as plt\n",
    "\n",
    "from sklearn import svm, datasets\n",
    "from sklearn.model_selection import train_test_split\n",
    "from sklearn.metrics import confusion_matrix\n",
    "from sklearn.utils.multiclass import unique_labels\n",
    "from sklearn import linear_model\n",
    "from sklearn.metrics import mean_squared_error, r2_score\n",
    "from sklearn.metrics import classification_report\n",
    "import sklearn.metrics\n",
    "import matplotlib.pyplot as plt\n",
    "%matplotlib inline\n",
    "from sklearn.utils.multiclass import unique_labels\n",
    "from sklearn.utils.multiclass import unique_labels"
   ]
  },
  {
   "cell_type": "code",
   "execution_count": 8,
   "metadata": {},
   "outputs": [],
   "source": [
    "from sklearn.model_selection import cross_val_score\n",
    "from sklearn.ensemble import BaggingClassifier\n",
    "from sklearn.neural_network import MLPClassifier\n",
    "from sklearn.neighbors import KNeighborsClassifier\n",
    "from sklearn.ensemble import ExtraTreesClassifier\n",
    "from sklearn.ensemble import ExtraTreesClassifier"
   ]
  },
  {
   "cell_type": "markdown",
   "metadata": {},
   "source": [
    "### Definición de funciones"
   ]
  },
  {
   "cell_type": "code",
   "execution_count": 9,
   "metadata": {},
   "outputs": [],
   "source": [
    "def enmascarar_entrenamiento(vector_data_path, cols, rows, geo_transform, projection, target_value=1):\n",
    "    data_source = gdal.OpenEx(vector_data_path, gdal.OF_VECTOR)\n",
    "    layer = data_source.GetLayer(0)\n",
    "    driver = gdal.GetDriverByName('MEM')\n",
    "    target_ds = driver.Create('', cols, rows, 1, gdal.GDT_UInt16)\n",
    "    target_ds.SetGeoTransform(geo_transform)\n",
    "    target_ds.SetProjection(projection)\n",
    "    gdal.RasterizeLayer(target_ds, [1], layer, burn_values=[target_value])\n",
    "    return target_ds"
   ]
  },
  {
   "cell_type": "code",
   "execution_count": 10,
   "metadata": {},
   "outputs": [],
   "source": [
    "def rasterizar_entrenamiento(file_paths, rows, cols, geo_transform, projection):\n",
    "    labeled_pixels = np.zeros((rows, cols))\n",
    "    for i, path in enumerate(file_paths):\n",
    "        label = i+1\n",
    "        ds = enmascarar_entrenamiento(path, cols, rows, geo_transform, projection, target_value=label)\n",
    "        band = ds.GetRasterBand(1)\n",
    "        labeled_pixels += band.ReadAsArray()\n",
    "        #ds = None\n",
    "    return labeled_pixels"
   ]
  },
  {
   "cell_type": "code",
   "execution_count": 11,
   "metadata": {},
   "outputs": [],
   "source": [
    "def exportar(fname, data, geo_transform, projection):\n",
    "    driver = gdal.GetDriverByName('GTiff')\n",
    "    rows, cols = data.shape\n",
    "    dataset = driver.Create(fname, cols, rows, 1, gdal.GDT_Byte)\n",
    "    dataset.SetGeoTransform(geo_transform)\n",
    "    dataset.SetProjection(projection)\n",
    "    band = dataset.GetRasterBand(1)\n",
    "    band.WriteArray(data)\n",
    "    dataset = None"
   ]
  },
  {
   "cell_type": "code",
   "execution_count": 12,
   "metadata": {},
   "outputs": [],
   "source": [
    "def plot_confusion_matrix(y_true, y_pred, classes,\n",
    "                          normalize=False,\n",
    "                          title=None,\n",
    "                          cmap=plt.cm.Blues):\n",
    "    \"\"\"\n",
    "    This function prints and plots the confusion matrix.\n",
    "    Normalization can be applied by setting `normalize=True`.\n",
    "    \"\"\"\n",
    "    if not title:\n",
    "        if normalize:\n",
    "            title = 'Normalized confusion matrix'\n",
    "        else:\n",
    "            title = 'Confusion matrix, without normalization'\n",
    "\n",
    "    # Compute confusion matrix\n",
    "    cm = confusion_matrix(y_true, y_pred)\n",
    "    # Only use the labels that appear in the data\n",
    "    classes = classes[unique_labels(y_true, y_pred)]\n",
    "    if normalize:\n",
    "        cm = cm.astype('float') / cm.sum(axis=1)[:, np.newaxis]\n",
    "        print(\"Normalized confusion matrix\")\n",
    "    else:\n",
    "        print('Confusion matrix, without normalization')\n",
    "\n",
    "    print(cm)\n",
    "\n",
    "    fig, ax = plt.subplots()\n",
    "    im = ax.imshow(cm, interpolation='nearest', cmap=cmap)\n",
    "    ax.figure.colorbar(im, ax=ax)\n",
    "    # We want to show all ticks...\n",
    "    ax.set(xticks=np.arange(cm.shape[1]),\n",
    "           yticks=np.arange(cm.shape[0]),\n",
    "           # ... and label them with the respective list entries\n",
    "           xticklabels=classes, yticklabels=classes,\n",
    "           title=title,\n",
    "           ylabel='True label',\n",
    "           xlabel='Predicted label')\n",
    "\n",
    "    # Rotate the tick labels and set their alignment.\n",
    "    plt.setp(ax.get_xticklabels(), rotation=45, ha=\"right\",\n",
    "             rotation_mode=\"anchor\")\n",
    "\n",
    "    # Loop over data dimensions and create text annotations.\n",
    "    fmt = '.2f' if normalize else 'd'\n",
    "    thresh = cm.max()/2. \n",
    "    for i in range(cm.shape[0]):\n",
    "        for j in range(cm.shape[1]):\n",
    "            ax.text(j, i, format(cm[i, j], fmt),\n",
    "                    ha=\"center\", va=\"center\",\n",
    "                    color=\"white\" if cm[i, j] > thresh else \"black\")\n",
    "    fig.tight_layout()\n",
    "    return ax"
   ]
  },
  {
   "cell_type": "markdown",
   "metadata": {},
   "source": [
    "### Definición de Consulta"
   ]
  },
  {
   "cell_type": "markdown",
   "metadata": {},
   "source": [
    "#### Parámetros de Consulta"
   ]
  },
  {
   "cell_type": "markdown",
   "metadata": {},
   "source": [
    "##### Los parametros que encontrará a continuación corresponde \n",
    "\n",
    "- products = Unidad de almacenamiento que desea consultar (Sátelite), Landsat 5, 7 y 8 \n",
    "- bands = Las bandas que desea emplear para el calculo de medianas y los índices que encontrará debajo  de la función de medianas\n",
    "- time_ranges = Rango o periodo de tiempo a cosultar (Veriricar que corresponda a los datos disponibles por unidad de almacenamiento)\n",
    "- Área = El usuario debe definir la longitud mínima, máxima y la latitud mínima, máxima del área de consulta\n",
    "- normalized = Función para normalizar los valores resultantes del cálculo de las medianas\n",
    "- minValid = Valor mínimo valido que empleará el algoritmo  para el cálculo de las medianas\n",
    "- nodata= -9999 Es el valor por defecto que se dará a los valores no data en el cálculo de las medianas"
   ]
  },
  {
   "cell_type": "code",
   "execution_count": 13,
   "metadata": {},
   "outputs": [],
   "source": [
    "products = ['LS8_OLI_LASRC','LS7_ETM_LEDAPS' ] #Productos sobre los que se hará la consulta (unidades de almacenamiento)\n",
    "#products = ['LS8_OLI_LASRC' ] #Productos sobre los que se hará la consulta (unidades de almacenamiento)\n",
    "bands=[\"blue\",\"green\",\"red\",\"nir\", \"swir1\",\"swir2\"] #arreglo de bandas #\"blue\",\"green\",\n",
    "time_ranges = [(\"2017-01-01\", \"2017-12-30\")] #Una lista de tuplas, cada tupla representa un periodo\n",
    "#área sobre la cual se hará la consulta:\n",
    "min_long = -73\n",
    "min_lat = 4.1\n",
    "max_long = -72.7\n",
    "max_lat = 4.5\n",
    "nodata=-9999"
   ]
  },
  {
   "cell_type": "markdown",
   "metadata": {},
   "source": [
    "### Selección de carpetas donde se encuentran los shapefile\n",
    "\n",
    "- train_data_path= Se refiere a la carpeta que contiene los shapefile de entrenamiento del para la clasificación\n",
    "\n",
    "- validation_data_path= Se refiere a la carpeta que contiene los shapefile de validación del para la clasificación"
   ]
  },
  {
   "cell_type": "code",
   "execution_count": 14,
   "metadata": {},
   "outputs": [],
   "source": [
    "train_data_path = '/home/cubo/jupyter/500/TEST/'\n",
    "validation_data_path= '/home/cubo/jupyter/500/TRAIN'\n",
    "normalized=False\n",
    "minValid=1"
   ]
  },
  {
   "cell_type": "markdown",
   "metadata": {},
   "source": [
    "### Máscara de nubes\n",
    "\n",
    "Con el nuevo formato, los valores de `pixel_qa` dependen del producto. Para crear la máscara de nubes, se determinan los valores válidos para el producto actual y se usa la banda `pixel_qa` para generar un arreglo de datos booleanos: Para cada posición, si el valor de pixel_qa está en la lista de valores válidos será `True`, en caso contrario será `False`."
   ]
  },
  {
   "cell_type": "code",
   "execution_count": 15,
   "metadata": {
    "scrolled": true
   },
   "outputs": [],
   "source": [
    "kwargs={}\n",
    "dc = datacube.Datacube(app=\"{}_{}_{}\".format(algorithm,version,execID))\n",
    "for product in products:\n",
    "    i=0\n",
    "    validValues=set()\n",
    "    if product==\"LS7_ETM_LEDAPS\":\n",
    "        validValues=[66,68,130,132]\n",
    "    elif product == \"LS8_OLI_LASRC\":\n",
    "        validValues=[322, 386, 834, 898, 1346, 324, 388, 836, 900, 1348]\n",
    "    for tr in time_ranges:\n",
    "        _data = dc.load(product=product, longitude=(min_long, max_long), latitude=(min_lat, max_lat), time=tr)\n",
    "        if len(_data.data_vars)==0:\n",
    "            break\n",
    "        cloud_mask=np.isin(_data[\"pixel_qa\"].values, validValues)\n",
    "        for band in bands:\n",
    "            _data[band].values=np.where(np.logical_and(_data.data_vars[band]!=nodata,cloud_mask),_data.data_vars[band], np.nan)\n",
    "        _undesired=list(set(_data.keys())-set(bands+['latitude','longitude','time']))\n",
    "        _data=_data.drop(_undesired)\n",
    "            \n",
    "        if \"xarr\"+str(i) in kwargs:\n",
    "            kwargs[\"xarr\"+str(i)]=xr.concat([kwargs[\"xarr\"+str(i)],_data.copy(deep=True)], 'time')\n",
    "        else:\n",
    "            kwargs[\"xarr\"+str(i)]=_data\n",
    "    i+=1\n",
    "del _data"
   ]
  },
  {
   "cell_type": "code",
   "execution_count": 16,
   "metadata": {},
   "outputs": [
    {
     "data": {
      "text/plain": [
       "['radsat_qa',\n",
       " 'sensor_azimuth',\n",
       " 'pixel_qa',\n",
       " 'cloud_qa',\n",
       " 'solar_zenith',\n",
       " 'atmos_opacity',\n",
       " 'solar_azimuth',\n",
       " 'sensor_zenith']"
      ]
     },
     "execution_count": 16,
     "metadata": {},
     "output_type": "execute_result"
    }
   ],
   "source": [
    "_undesired"
   ]
  },
  {
   "cell_type": "code",
   "execution_count": 17,
   "metadata": {},
   "outputs": [],
   "source": [
    "#El algoritmo recibe los productos como xarrays en variablles llamadas xarr0, xarr1, xarr2... \n",
    "xarr0=kwargs[\"xarr0\"]\n",
    "#del kwargs"
   ]
  },
  {
   "cell_type": "code",
   "execution_count": 18,
   "metadata": {
    "scrolled": true
   },
   "outputs": [
    {
     "data": {
      "text/plain": [
       "['blue', 'green', 'red', 'nir', 'swir1', 'swir2']"
      ]
     },
     "execution_count": 18,
     "metadata": {},
     "output_type": "execute_result"
    }
   ],
   "source": [
    "#Lista de bandas consultadas en el arreglo\n",
    "list(xarr0.data_vars)"
   ]
  },
  {
   "cell_type": "markdown",
   "metadata": {},
   "source": [
    "#### Función de Consulta de unidad de almacenamiento DEM con parámetros asignados"
   ]
  },
  {
   "cell_type": "code",
   "execution_count": 19,
   "metadata": {},
   "outputs": [],
   "source": [
    "_data2 = dc.load(product=\"DEM_Mosaico\", longitude=(min_long, max_long), latitude=(min_lat, max_lat), time=(\"2013-01-01\", \"2013-12-31\"))\n",
    "dem=_data2[\"dem\"][0].values\n",
    "del _data2"
   ]
  },
  {
   "cell_type": "markdown",
   "metadata": {},
   "source": [
    "#### Función de Consulta de unidad de almacenamiento Bosque No Bosque con parámetros asignados"
   ]
  },
  {
   "cell_type": "code",
   "execution_count": 20,
   "metadata": {},
   "outputs": [],
   "source": [
    "dc = datacube.Datacube(app=\"{}_{}_{}\".format(algorithm,version,execID))\n",
    "\n",
    "_data3 = dc.load(product=\"FNF_COL_UTM\", longitude=(min_long, max_long), latitude=(min_lat, max_lat), time=(\"2016-01-01\", \"2016-12-31\"))"
   ]
  },
  {
   "cell_type": "code",
   "execution_count": 21,
   "metadata": {},
   "outputs": [
    {
     "data": {
      "text/plain": [
       "<xarray.Dataset>\n",
       "Dimensions:    (latitude: 1475, longitude: 1112, time: 1)\n",
       "Coordinates:\n",
       "  * time       (time) datetime64[ns] 2016-01-01\n",
       "  * latitude   (latitude) float64 4.5 4.5 4.499 4.499 4.499 4.499 4.498 ...\n",
       "  * longitude  (longitude) float64 -73.0 -73.0 -73.0 -73.0 -73.0 -73.0 -73.0 ...\n",
       "Data variables:\n",
       "    fnf_mask   (time, latitude, longitude) int8 2 2 2 2 2 2 2 2 2 2 2 2 2 2 ...\n",
       "Attributes:\n",
       "    crs:      EPSG:4686"
      ]
     },
     "execution_count": 21,
     "metadata": {},
     "output_type": "execute_result"
    }
   ],
   "source": [
    "_data3"
   ]
  },
  {
   "cell_type": "markdown",
   "metadata": {},
   "source": [
    "#### Función cálculo de medianas de la consulta anterior "
   ]
  },
  {
   "cell_type": "code",
   "execution_count": 22,
   "metadata": {
    "scrolled": true
   },
   "outputs": [],
   "source": [
    "medians={} \n",
    "for band in bands:\n",
    "    datos=xarr0[band].values\n",
    "    allNan=~np.isnan(datos) #Una mascara que indica qué datos son o no nan. \n",
    "    if normalized: #Normalizar, si es necesario.\n",
    "        #Para cada momento en el tiempo obtener el promedio y la desviación estándar de los valores de reflectancia\n",
    "        m=np.nanmean(datos.reshape((datos.shape[0],-1)), axis=1)\n",
    "        st=np.nanstd(datos.reshape((datos.shape[0],-1)), axis=1)\n",
    "        # usar ((x-x̄)/st) para llevar la distribución a media 0 y desviación estándar 1, \n",
    "        # y luego hacer un cambio de espacio para la nueva desviación y media. \n",
    "        datos=np.true_divide((datos-m[:,np.newaxis,np.newaxis]), st[:,np.newaxis,np.newaxis])*np.nanmean(st)+np.nanmean(m)\n",
    "    #Calcular la mediana en la dimensión de tiempo \n",
    "    medians[band]=np.nanmedian(datos,0) \n",
    "    #Eliminar los valores que no cumplen con el número mínimo de pixeles válidos dado. \n",
    "    medians[band][np.sum(allNan,0)<minValid]=np.nan\n",
    "    medians[band][_data3[\"fnf_mask\"].values[0]==1]=np.nan\n",
    "\n",
    "del datos\n",
    "#del _data"
   ]
  },
  {
   "cell_type": "markdown",
   "metadata": {},
   "source": [
    "#### Cálculo de índices a partir de la consulta de medianas realizada anteriormente"
   ]
  },
  {
   "cell_type": "code",
   "execution_count": 23,
   "metadata": {},
   "outputs": [],
   "source": [
    "medians[\"dem\"]=dem"
   ]
  },
  {
   "cell_type": "code",
   "execution_count": 24,
   "metadata": {},
   "outputs": [],
   "source": [
    "medians[\"ndvi\"]=np.true_divide(medians[\"nir\"]-medians[\"red\"],medians[\"nir\"]+medians[\"red\"])"
   ]
  },
  {
   "cell_type": "code",
   "execution_count": 25,
   "metadata": {},
   "outputs": [],
   "source": [
    "medians[\"nbr\"]=np.true_divide(medians[\"nir\"]-medians[\"swir1\"],medians[\"nir\"]+medians[\"swir1\"])"
   ]
  },
  {
   "cell_type": "code",
   "execution_count": 26,
   "metadata": {},
   "outputs": [],
   "source": [
    "medians[\"nbr2\"]=np.true_divide(medians[\"swir1\"]-medians[\"swir2\"],medians[\"swir1\"]+medians[\"swir2\"])"
   ]
  },
  {
   "cell_type": "code",
   "execution_count": 27,
   "metadata": {},
   "outputs": [],
   "source": [
    "medians[\"ndmi\"]=np.true_divide(medians[\"nir\"]-medians[\"swir1\"],medians[\"nir\"]+medians[\"swir1\"])"
   ]
  },
  {
   "cell_type": "code",
   "execution_count": 28,
   "metadata": {},
   "outputs": [],
   "source": [
    "medians[\"gndvi\"]=np.true_divide(medians[\"nir\"]-medians[\"green\"],medians[\"nir\"]+medians[\"green\"])"
   ]
  },
  {
   "cell_type": "code",
   "execution_count": 29,
   "metadata": {},
   "outputs": [],
   "source": [
    "medians[\"rvi\"]=np.true_divide(medians[\"nir\"],medians[\"red\"])"
   ]
  },
  {
   "cell_type": "code",
   "execution_count": 30,
   "metadata": {},
   "outputs": [],
   "source": [
    "#Near-infrared reﬂectance of vegetation\n",
    "medians[\"nirv\"]=(medians[\"ndvi\"] * medians[\"nir\"])"
   ]
  },
  {
   "cell_type": "code",
   "execution_count": 31,
   "metadata": {
    "scrolled": false
   },
   "outputs": [],
   "source": [
    "#Optimized Soil Adjusted Vegetation Index (OSAVI). \n",
    "medians[\"osavi\"]=np.true_divide(medians[\"nir\"]-medians[\"red\"],medians[\"nir\"]+medians[\"red\"]+0.16)"
   ]
  },
  {
   "cell_type": "code",
   "execution_count": 32,
   "metadata": {
    "scrolled": true
   },
   "outputs": [
    {
     "data": {
      "text/plain": [
       "{'blue': array([[196. , 208. , 203. , ..., 377. , 397. , 409. ],\n",
       "        [198. , 218.5, 206.5, ..., 375. , 399.5, 429. ],\n",
       "        [194.5, 202.5, 207.5, ..., 394. , 417.5, 445. ],\n",
       "        ...,\n",
       "        [558. , 574. , 524. , ..., 412.5, 435. , 435. ],\n",
       "        [579. , 555. , 516.5, ..., 391.5, 477. , 480. ],\n",
       "        [580. , 553. , 526. , ..., 441. , 411.5, 479. ]]),\n",
       " 'green': array([[466. , 467. , 471. , ..., 781. , 795. , 798. ],\n",
       "        [460.5, 476. , 474. , ..., 760. , 792.5, 796. ],\n",
       "        [451. , 463. , 464. , ..., 761. , 785.5, 788. ],\n",
       "        ...,\n",
       "        [930. , 939. , 922. , ..., 742. , 723. , 709. ],\n",
       "        [949. , 907.5, 914. , ..., 709.5, 772. , 774. ],\n",
       "        [966. , 909.5, 921. , ..., 709. , 706.5, 737. ]]),\n",
       " 'red': array([[ 282. ,  315. ,  305. , ...,  675. ,  699.5,  699. ],\n",
       "        [ 286.5,  307.5,  302. , ...,  660.5,  694. ,  695. ],\n",
       "        [ 279.5,  307. ,  306. , ...,  655. ,  694. ,  703. ],\n",
       "        ...,\n",
       "        [1038. ,  988. ,  960. , ...,  859.5,  827. ,  850. ],\n",
       "        [1061. , 1005.5,  975.5, ...,  758.5,  820. ,  793. ],\n",
       "        [1014. ,  982. ,  982.5, ...,  681. ,  708.5,  718. ]]),\n",
       " 'nir': array([[3471. , 3391. , 3387. , ..., 3518.5, 3501. , 3444. ],\n",
       "        [3546.5, 3371.5, 3408. , ..., 3381.5, 3388.5, 3391. ],\n",
       "        [3564.5, 3374. , 3316.5, ..., 3330.5, 3386.5, 3368. ],\n",
       "        ...,\n",
       "        [3028. , 3025. , 3044. , ..., 2730. , 2725. , 2735. ],\n",
       "        [2999. , 2924. , 2981.5, ..., 2673.5, 2870. , 2996. ],\n",
       "        [3030. , 2981.5, 2988.5, ..., 2848.5, 2891.5, 2902. ]]),\n",
       " 'swir1': array([[1612. , 1648. , 1587. , ..., 2794.5, 2759.5, 2765. ],\n",
       "        [1569.5, 1580. , 1571.5, ..., 2782.5, 2842. , 2843. ],\n",
       "        [1541. , 1567.5, 1586. , ..., 2784.5, 2842. , 2842. ],\n",
       "        ...,\n",
       "        [2667. , 2705. , 2669. , ..., 2715. , 2731. , 2741. ],\n",
       "        [2663. , 2640. , 2677.5, ..., 2569. , 2572. , 2508. ],\n",
       "        [2728. , 2687. , 2700.5, ..., 1984. , 1921. , 1927. ]]),\n",
       " 'swir2': array([[ 613. ,  665. ,  647. , ..., 1333.5, 1336. , 1283. ],\n",
       "        [ 581. ,  630. ,  638.5, ..., 1351. , 1348. , 1240. ],\n",
       "        [ 570.5,  622.5,  648.5, ..., 1315. , 1365. , 1331. ],\n",
       "        ...,\n",
       "        [1546. , 1583. , 1459. , ..., 1526.5, 1518. , 1529. ],\n",
       "        [1570. , 1607.5, 1525.5, ..., 1380.5, 1480. , 1473. ],\n",
       "        [1621. , 1557.5, 1568. , ..., 1025. ,  926. , 1014. ]]),\n",
       " 'dem': array([[214.10109, 213.97743, 214.00194, ..., 170.06358, 171.5449 ,\n",
       "         172.91513],\n",
       "        [214.1133 , 214.34248, 214.61879, ..., 168.9702 , 170.45564,\n",
       "         171.9644 ],\n",
       "        [214.08847, 214.65999, 215.18852, ..., 167.955  , 169.31699,\n",
       "         170.86554],\n",
       "        ...,\n",
       "        [175.39288, 175.0797 , 174.79759, ..., 248.22307, 248.3783 ,\n",
       "         248.50835],\n",
       "        [176.13345, 175.94844, 175.79407, ..., 248.76648, 249.03632,\n",
       "         249.22429],\n",
       "        [176.87402, 176.82451, 176.81204, ..., 249.19969, 249.53291,\n",
       "         249.75505]], dtype=float32),\n",
       " 'ndvi': array([[0.84972022, 0.8300054 , 0.8347779 , ..., 0.67807321, 0.66694441,\n",
       "         0.66256336],\n",
       "        [0.85050874, 0.83283501, 0.83719677, ..., 0.67318159, 0.66001225,\n",
       "         0.659814  ],\n",
       "        [0.85457856, 0.8331975 , 0.8310559 , ..., 0.67130849, 0.65984561,\n",
       "         0.65463031],\n",
       "        ...,\n",
       "        [0.4894245 , 0.5076003 , 0.52047952, ..., 0.52110322, 0.53434685,\n",
       "         0.52580195],\n",
       "        [0.4773399 , 0.48823005, 0.50694971, ..., 0.55798368, 0.55555556,\n",
       "         0.5814199 ],\n",
       "        [0.49851632, 0.50447837, 0.50516243, ..., 0.61410965, 0.60638889,\n",
       "         0.60331492]]),\n",
       " 'nbr': array([[ 0.3657289 ,  0.34590196,  0.36188179, ...,  0.11468399,\n",
       "          0.11844102,  0.10935738],\n",
       "        [ 0.38643471,  0.36180955,  0.36881213, ...,  0.09717716,\n",
       "          0.08771367,  0.08790504],\n",
       "        [ 0.39633728,  0.36557725,  0.35298317, ...,  0.08928863,\n",
       "          0.08742073,  0.08470209],\n",
       "        ...,\n",
       "        [ 0.06338894,  0.05584642,  0.06563977, ...,  0.00275482,\n",
       "         -0.00109971, -0.00109569],\n",
       "        [ 0.05934299,  0.05104242,  0.05371974, ...,  0.01993324,\n",
       "          0.05475928,  0.08866279],\n",
       "        [ 0.05244877,  0.05195378,  0.05062401, ...,  0.17889291,\n",
       "          0.20166234,  0.20190516]]),\n",
       " 'nbr2': array([[0.44898876, 0.42498919, 0.42076992, ..., 0.35392442, 0.34757661,\n",
       "         0.36610672],\n",
       "        [0.45966054, 0.42986425, 0.42217195, ..., 0.34631668, 0.35656325,\n",
       "         0.39260348],\n",
       "        [0.45962586, 0.43150685, 0.41955695, ..., 0.35845835, 0.35108153,\n",
       "         0.36208962],\n",
       "        ...,\n",
       "        [0.26608118, 0.26166045, 0.29312016, ..., 0.28020747, 0.28547894,\n",
       "         0.28384075],\n",
       "        [0.25820931, 0.24308417, 0.27408994, ..., 0.30092417, 0.26949654,\n",
       "         0.25998493],\n",
       "        [0.25454127, 0.26610908, 0.26531568, ..., 0.31871054, 0.34949069,\n",
       "         0.31043863]]),\n",
       " 'ndmi': array([[ 0.3657289 ,  0.34590196,  0.36188179, ...,  0.11468399,\n",
       "          0.11844102,  0.10935738],\n",
       "        [ 0.38643471,  0.36180955,  0.36881213, ...,  0.09717716,\n",
       "          0.08771367,  0.08790504],\n",
       "        [ 0.39633728,  0.36557725,  0.35298317, ...,  0.08928863,\n",
       "          0.08742073,  0.08470209],\n",
       "        ...,\n",
       "        [ 0.06338894,  0.05584642,  0.06563977, ...,  0.00275482,\n",
       "         -0.00109971, -0.00109569],\n",
       "        [ 0.05934299,  0.05104242,  0.05371974, ...,  0.01993324,\n",
       "          0.05475928,  0.08866279],\n",
       "        [ 0.05244877,  0.05195378,  0.05062401, ...,  0.17889291,\n",
       "          0.20166234,  0.20190516]]),\n",
       " 'gndvi': array([[0.76327153, 0.75790565, 0.75583204, ..., 0.63670194, 0.62988827,\n",
       "         0.62376238],\n",
       "        [0.77015223, 0.7525666 , 0.75579598, ..., 0.63298322, 0.62090409,\n",
       "         0.6197755 ],\n",
       "        [0.77537044, 0.75866562, 0.75452982, ..., 0.62800929, 0.62344199,\n",
       "         0.62078922],\n",
       "        ...,\n",
       "        [0.53006569, 0.52623613, 0.53504791, ..., 0.57258065, 0.58062645,\n",
       "         0.58826945],\n",
       "        [0.51925025, 0.52629518, 0.5307406 , ..., 0.58054981, 0.57605711,\n",
       "         0.58938992],\n",
       "        [0.51651652, 0.53251092, 0.52884001, ..., 0.60140548, 0.60728182,\n",
       "         0.59494367]]),\n",
       " 'rvi': array([[12.30851064, 10.76507937, 11.10491803, ...,  5.21259259,\n",
       "          5.00500357,  4.92703863],\n",
       "        [12.37870855, 10.96422764, 11.28476821, ...,  5.11960636,\n",
       "          4.88256484,  4.87913669],\n",
       "        [12.75313059, 10.99022801, 10.83823529, ...,  5.08473282,\n",
       "          4.879683  ,  4.79089616],\n",
       "        ...,\n",
       "        [ 2.91714836,  3.06174089,  3.17083333, ...,  3.17626527,\n",
       "          3.29504232,  3.21764706],\n",
       "        [ 2.8265787 ,  2.90800597,  3.05638134, ...,  3.52471984,\n",
       "          3.5       ,  3.77805801],\n",
       "        [ 2.98816568,  3.03615071,  3.04173028, ...,  4.18281938,\n",
       "          4.08115737,  4.04178273]]),\n",
       " 'nirv': array([[2949.37889688, 2814.54830005, 2827.39274106, ..., 2385.80058424,\n",
       "         2334.97238424, 2281.86821144],\n",
       "        [3016.32924602, 2807.90323457, 2853.16657682, ..., 2276.36355764,\n",
       "         2236.45150031, 2237.42927068],\n",
       "        [3046.14529136, 2811.20836729, 2756.19689441, ..., 2235.7929369 ,\n",
       "         2234.56714863, 2204.79489069],\n",
       "        ...,\n",
       "        [1481.97737334, 1535.49090456, 1584.33966034, ..., 1422.61178437,\n",
       "         1456.09515766, 1438.06834031],\n",
       "        [1431.54236453, 1427.58467998, 1511.4705585 , ..., 1491.76937646,\n",
       "         1594.44444444, 1741.93401953],\n",
       "        [1510.50445104, 1504.10224549, 1509.67791488, ..., 1749.29133022,\n",
       "         1753.37347222, 1750.8198895 ]]),\n",
       " 'osavi': array([[0.849684  , 0.82996956, 0.83474172, ..., 0.67804734, 0.66691901,\n",
       "         0.66253777],\n",
       "        [0.85047324, 0.83279879, 0.83716066, ..., 0.67315495, 0.65998638,\n",
       "         0.65978816],\n",
       "        [0.854543  , 0.83316129, 0.8310192 , ..., 0.67128154, 0.65981974,\n",
       "         0.65460458],\n",
       "        ...,\n",
       "        [0.48940524, 0.50758006, 0.52045872, ..., 0.52107999, 0.53432278,\n",
       "         0.52577849],\n",
       "        [0.47732109, 0.48821018, 0.50692921, ..., 0.55795767, 0.55553147,\n",
       "         0.58139535],\n",
       "        [0.4984966 , 0.504458  , 0.50514207, ..., 0.61408181, 0.60636194,\n",
       "         0.60328825]])}"
      ]
     },
     "execution_count": 32,
     "metadata": {},
     "output_type": "execute_result"
    }
   ],
   "source": [
    "medians"
   ]
  },
  {
   "cell_type": "code",
   "execution_count": 33,
   "metadata": {},
   "outputs": [],
   "source": [
    "nbar=xarr0"
   ]
  },
  {
   "cell_type": "markdown",
   "metadata": {},
   "source": [
    "#### (Opcional)--Preparar salida de medianas e índices para exportar"
   ]
  },
  {
   "cell_type": "code",
   "execution_count": 34,
   "metadata": {
    "scrolled": true
   },
   "outputs": [],
   "source": [
    "import xarray as xr\n",
    "ncoords=[]\n",
    "xdims =[]\n",
    "xcords={}\n",
    "for x in nbar.coords:\n",
    "    if(x!='time'):\n",
    "        ncoords.append( ( x, nbar.coords[x]) )\n",
    "        xdims.append(x)\n",
    "        xcords[x]=nbar.coords[x]\n",
    "variables ={k: xr.DataArray(v, dims=xdims,coords=ncoords)\n",
    "             for k, v in medians.items()}\n",
    "output=xr.Dataset(variables, attrs={'crs':nbar.crs})\n",
    "for x in output.coords:\n",
    "    output.coords[x].attrs[\"units\"]=nbar.coords[x].units"
   ]
  },
  {
   "cell_type": "code",
   "execution_count": 35,
   "metadata": {},
   "outputs": [],
   "source": [
    "output1=output.expand_dims(dim='time',axis=0)\n",
    "output=output1"
   ]
  },
  {
   "cell_type": "code",
   "execution_count": 36,
   "metadata": {},
   "outputs": [],
   "source": [
    "from utils.data_cube_utilities.import_export import export_xarray_to_geotiff\n",
    "export_xarray_to_geotiff(output, \"output/mediana_fnf_33\")"
   ]
  },
  {
   "cell_type": "code",
   "execution_count": 37,
   "metadata": {},
   "outputs": [],
   "source": [
    "bands=list(medians.keys())\n",
    "_coords=xarr0.coords\n",
    "_crs=xarr0.crs\n",
    "#del xarr0"
   ]
  },
  {
   "cell_type": "code",
   "execution_count": 38,
   "metadata": {},
   "outputs": [
    {
     "data": {
      "text/plain": [
       "(1475, 1112)"
      ]
     },
     "execution_count": 38,
     "metadata": {},
     "output_type": "execute_result"
    }
   ],
   "source": [
    "medians[bands[0]].shape"
   ]
  },
  {
   "cell_type": "code",
   "execution_count": 39,
   "metadata": {},
   "outputs": [],
   "source": [
    "rows, cols = medians[bands[0]].shape\n",
    "#(originX, pixelWidth, 0, originY, 0, pixelHeight)\n",
    "geo_transform=(_coords[\"longitude\"].values[0], 0.000269995,0, _coords[\"latitude\"].values[0],0,-0.000271302)\n",
    "proj=_crs.wkt\n",
    "#proj='GEOGCS[\"WGS 84\",DATUM[\"WGS_1984\",SPHEROID[\"WGS 84\",6378137,298.257223563,AUTHORITY[\"EPSG\",\"7030\"]],TOWGS84[0,0,0,0,0,0,0],AUTHORITY[\"EPSG\",\"6326\"]],PRIMEM[\"Greenwich\",0,AUTHORITY[\"EPSG\",\"8901\"]],UNIT[\"degree\",0.0174532925199433,AUTHORITY[\"EPSG\",\"9122\"]],AUTHORITY[\"EPSG\",\"4326\"]]'"
   ]
  },
  {
   "cell_type": "markdown",
   "metadata": {},
   "source": [
    "###  Rasterización de muestras  "
   ]
  },
  {
   "cell_type": "markdown",
   "metadata": {},
   "source": [
    "#### Inicio  Random forest training segunda parte mismo algoritmo"
   ]
  },
  {
   "cell_type": "code",
   "execution_count": 40,
   "metadata": {},
   "outputs": [
    {
     "data": {
      "text/plain": [
       "['/home/cubo/jupyter/500/TEST/Cuerpos_Agua.shp',\n",
       " '/home/cubo/jupyter/500/TEST/Cultivos.shp',\n",
       " '/home/cubo/jupyter/500/TEST/Pastos.shp',\n",
       " '/home/cubo/jupyter/500/TEST/Zona_Pantanosa.shp']"
      ]
     },
     "execution_count": 40,
     "metadata": {},
     "output_type": "execute_result"
    }
   ],
   "source": [
    "#Se llamarán los shapefile definidos para el entrenamiento del algoritmo y que se designaron en la ruta de \"train_data_path\"\n",
    "files = [f for f in os.listdir(train_data_path) if f.endswith('.shp')]\n",
    "classes = [f.split('.')[0] for f in files]\n",
    "shapefiles = [os.path.join(train_data_path, f) for f in files if f.endswith('.shp')]\n",
    "shapefiles.sort()\n",
    "shapefiles"
   ]
  },
  {
   "cell_type": "code",
   "execution_count": 41,
   "metadata": {},
   "outputs": [],
   "source": [
    "#Asignación de coordenadas para el arreglo definido para realizar la clasificación \n",
    "#(originX, pixelWidth, 0, originY, 0, pixelHeight)\n",
    "rows, cols = medians[bands[0]].shape\n",
    "geo_transform=(_coords[\"longitude\"].values[0], 0.000269995,0, _coords[\"latitude\"].values[0],0,-0.000271302)\n",
    "proj=_crs.wkt\n",
    "#proj='GEOGCS[\"WGS 84\",DATUM[\"WGS_1984\",SPHEROID[\"WGS 84\",6378137,298.257223563,AUTHORITY[\"EPSG\",\"7030\"]],TOWGS84[0,0,0,0,0,0,0],AUTHORITY[\"EPSG\",\"6326\"]],PRIMEM[\"Greenwich\",0,AUTHORITY[\"EPSG\",\"8901\"]],UNIT[\"degree\",0.0174532925199433,AUTHORITY[\"EPSG\",\"9122\"]],AUTHORITY[\"EPSG\",\"4326\"]]'"
   ]
  },
  {
   "cell_type": "code",
   "execution_count": 42,
   "metadata": {
    "scrolled": true
   },
   "outputs": [],
   "source": [
    "##Se realiza la rasterización de las muestras de shapefile en el área seleccionada\n",
    "labeled_pixels = rasterizar_entrenamiento(shapefiles, rows, cols, geo_transform, proj)"
   ]
  },
  {
   "cell_type": "code",
   "execution_count": 43,
   "metadata": {},
   "outputs": [
    {
     "name": "stdout",
     "output_type": "stream",
     "text": [
      "CPU times: user 304 ms, sys: 3.73 s, total: 4.03 s\n",
      "Wall time: 4.04 s\n"
     ]
    }
   ],
   "source": [
    "%%time\n",
    "is_train = np.nonzero(labeled_pixels)\n",
    "training_labels = labeled_pixels[is_train]\n",
    "bands_data=[]\n",
    "for band in bands: \n",
    "    bands_data.append(medians[band])\n",
    "bands_data = np.dstack(bands_data)"
   ]
  },
  {
   "cell_type": "code",
   "execution_count": 44,
   "metadata": {
    "scrolled": true
   },
   "outputs": [],
   "source": [
    "training_samples = bands_data[is_train]\n",
    "rows, cols, n_bands = bands_data.shape\n",
    "np.isfinite(training_samples)\n",
    "#Máscara eliminación de valores infinitos que puedan surgir en el proceso de rasterización y que influyen en el proceso de clasificación\n",
    "_msk=np.sum(np.isfinite(training_samples),1)>1\n",
    "training_samples= training_samples[_msk,:]\n",
    "training_labels=training_labels[_msk]"
   ]
  },
  {
   "cell_type": "code",
   "execution_count": 45,
   "metadata": {},
   "outputs": [
    {
     "data": {
      "text/plain": [
       "array([1, 1, 1, ..., 2, 2, 2])"
      ]
     },
     "execution_count": 45,
     "metadata": {},
     "output_type": "execute_result"
    }
   ],
   "source": [
    "#Máscara remplazo de los valores nan por valor no data\n",
    "mask_nan=np.isnan(training_samples)\n",
    "training_samples[mask_nan]=-9999\n",
    "training_labels = np.array(training_labels,dtype='int64')\n",
    "unique_labels(training_labels)\n",
    "training_labels"
   ]
  },
  {
   "cell_type": "code",
   "execution_count": 46,
   "metadata": {},
   "outputs": [
    {
     "name": "stdout",
     "output_type": "stream",
     "text": [
      "CPU times: user 0 ns, sys: 0 ns, total: 0 ns\n",
      "Wall time: 274 µs\n"
     ]
    },
    {
     "data": {
      "text/plain": [
       "array([1, 2, 3, 4])"
      ]
     },
     "execution_count": 46,
     "metadata": {},
     "output_type": "execute_result"
    }
   ],
   "source": [
    "%%time\n",
    "#En caso de que se obtengan valores de entrenamiento o \"training labels\" diferentes de las clases inicialmente ingresadas estos valore se deberan enviar a alguna de las clases existentes\n",
    "#como se muestra a continuación \"mk_training_labels\" será la mascara que envie los valores diferentes a la clase que eligamos y se debera indicar en reemplazando el valor para el ejemplo corresponde al número \"4\"\n",
    "#mk_training_labels = (training_labels > 4)\n",
    "#training_labels[mk_training_labels]= 4\n",
    "unique_labels(training_labels)"
   ]
  },
  {
   "cell_type": "markdown",
   "metadata": {},
   "source": [
    "### Primera clasificación con algoritmo de Ensamble Bagging\n"
   ]
  },
  {
   "cell_type": "code",
   "execution_count": 47,
   "metadata": {},
   "outputs": [],
   "source": [
    "##Definición de parámetros para cada uno de los algoritmos de máquinas de aprendizaje que se emplearan en el algoritmo de ensamble Bagging \n",
    "##Algoritmo Random Forest \n",
    "rf = RandomForestClassifier(n_jobs=-1, n_estimators=500, verbose=1)\n",
    "##Algoritmo Decision Tree\n",
    "dtree=tree.DecisionTreeClassifier(criterion='gini')\n",
    "##Algoritmo Support Vector Machine in branch Linear\n",
    "svml=SVC(C=1.0,  class_weight='balanced',decision_function_shape='ovr', degree=3, gamma='auto', kernel='linear',\n",
    "           max_iter=-1, probability=False, random_state=None, shrinking=True,tol=0.001, verbose=False)\n",
    "##Algoritmo Knearest Neighbors\n",
    "#knn = KNeighborsClassifier(algorithm='brute',n_neighbors=3,metric='mahalanobis')\n",
    "##Algoritmo Neural Netkwork\n",
    "nn = MLPClassifier(alpha=0.0001,  hidden_layer_sizes=(500,),random_state=None,max_iter=500,activation = 'logistic',solver='adam')\n",
    "##Algoritmo Gradient Boosting \n",
    "grad_boost=GradientBoostingClassifier(n_estimators=500,learning_rate=1)\n",
    "##Algoritmo Extra Tree\n",
    "extrat = ExtraTreesClassifier(n_estimators=50, max_depth=None,class_weight='balanced')\n",
    "##Lista que contienen los algoritmos de máquinas de aprendizaje sobre los cuales se va a iterar\n",
    "clf_array=[rf,dtree,svml,nn,grad_boost,extrat]#nn,"
   ]
  },
  {
   "cell_type": "code",
   "execution_count": 48,
   "metadata": {},
   "outputs": [
    {
     "data": {
      "text/plain": [
       "array([[0., 0., 0., ..., 0., 0., 0.],\n",
       "       [0., 0., 0., ..., 0., 0., 0.],\n",
       "       [0., 0., 0., ..., 0., 0., 0.],\n",
       "       ...,\n",
       "       [0., 0., 0., ..., 0., 0., 0.],\n",
       "       [0., 0., 0., ..., 0., 0., 0.],\n",
       "       [0., 0., 0., ..., 0., 0., 0.]])"
      ]
     },
     "execution_count": 48,
     "metadata": {},
     "output_type": "execute_result"
    }
   ],
   "source": [
    "labeled_pixels"
   ]
  },
  {
   "cell_type": "code",
   "execution_count": 49,
   "metadata": {
    "scrolled": false
   },
   "outputs": [
    {
     "name": "stdout",
     "output_type": "stream",
     "text": [
      "Mean of: 0.684, std: (+/-) 0.024[RandomForestClassifier]\n",
      "Mean of: 0.674, std: (+/-) 0.017 [Bagging RandomForestClassifier]\n",
      "\n",
      "Mean of: 0.573, std: (+/-) 0.014[DecisionTreeClassifier]\n",
      "Mean of: 0.631, std: (+/-) 0.013 [Bagging DecisionTreeClassifier]\n",
      "\n",
      "Mean of: 0.625, std: (+/-) 0.040[SVC]\n",
      "Mean of: 0.629, std: (+/-) 0.036 [Bagging SVC]\n",
      "\n",
      "Mean of: 0.680, std: (+/-) 0.004[MLPClassifier]\n",
      "Mean of: 0.700, std: (+/-) 0.006 [Bagging MLPClassifier]\n",
      "\n",
      "Mean of: 0.628, std: (+/-) 0.005[GradientBoostingClassifier]\n",
      "Mean of: 0.635, std: (+/-) 0.021 [Bagging GradientBoostingClassifier]\n",
      "\n",
      "Mean of: 0.677, std: (+/-) 0.006[ExtraTreesClassifier]\n",
      "Mean of: 0.680, std: (+/-) 0.001 [Bagging ExtraTreesClassifier]\n",
      "\n"
     ]
    }
   ],
   "source": [
    "##Cálculo de mediana y desviación estandar correspondiente a la clasificación de cada algoritmo de máquina de aprendizaje comparado con los mismos valores estadísticos empleando el algoritmo de ensamble Bagging que optimiza los valores resultantes de estos algoritmos de máquinas de aprendizaje.\n",
    "for clf in clf_array:\n",
    "    vanilla_scores = cross_val_score(clf, training_samples, training_labels, cv=2, n_jobs=-1)\n",
    "    bagging_clf = BaggingClassifier(clf)\n",
    "    bagging_scores = cross_val_score(bagging_clf,training_samples, training_labels, cv=2, \n",
    "       n_jobs=-1)\n",
    "    \n",
    "    print (\"Mean of: {1:.3f}, std: (+/-) {2:.3f}[{0}]\"  \n",
    "                       .format(clf.__class__.__name__, \n",
    "                       vanilla_scores.mean(), vanilla_scores.std()))\n",
    "    print (\"Mean of: {1:.3f}, std: (+/-) {2:.3f} [Bagging {0}]\\n\"\n",
    "                       .format(clf.__class__.__name__, \n",
    "                        bagging_scores.mean(), bagging_scores.std()))"
   ]
  },
  {
   "cell_type": "code",
   "execution_count": 50,
   "metadata": {},
   "outputs": [
    {
     "data": {
      "text/plain": [
       "0.999198717948718"
      ]
     },
     "execution_count": 50,
     "metadata": {},
     "output_type": "execute_result"
    }
   ],
   "source": [
    "##Clasificación de la imagen  empleando el algoritmo de ensamble Bagging a partir de los datos de entrenamiento rasterizados\n",
    "bagging_clf.fit(training_samples, training_labels)\n",
    "bagging_clf.score(training_samples, training_labels)"
   ]
  },
  {
   "cell_type": "code",
   "execution_count": 51,
   "metadata": {},
   "outputs": [
    {
     "name": "stdout",
     "output_type": "stream",
     "text": [
      "0.6802884615384616\n",
      "0.0008012820512820484\n"
     ]
    }
   ],
   "source": [
    "#Estádistica de algoritmo de ensamble Bagging\n",
    "print(bagging_scores.mean())\n",
    "print(bagging_scores.std())"
   ]
  },
  {
   "cell_type": "markdown",
   "metadata": {},
   "source": [
    "#### Exportar el Modelo de entrenamiento Bagging"
   ]
  },
  {
   "cell_type": "code",
   "execution_count": 52,
   "metadata": {},
   "outputs": [
    {
     "name": "stderr",
     "output_type": "stream",
     "text": [
      "/home/cubo/anaconda/lib/python3.6/site-packages/sklearn/externals/joblib/__init__.py:15: DeprecationWarning: sklearn.externals.joblib is deprecated in 0.21 and will be removed in 0.23. Please import this functionality directly from joblib, which can be installed with: pip install joblib. If this warning is raised when loading pickled models, you may need to re-serialize those models with scikit-learn 0.21+.\n",
      "  warnings.warn(msg, category=DeprecationWarning)\n"
     ]
    },
    {
     "data": {
      "text/plain": [
       "['modelo_bagg_43']"
      ]
     },
     "execution_count": 52,
     "metadata": {},
     "output_type": "execute_result"
    }
   ],
   "source": [
    "from sklearn.externals import joblib\n",
    "joblib.dump(bagging_clf,'modelo_bagg_43')"
   ]
  },
  {
   "cell_type": "code",
   "execution_count": 53,
   "metadata": {},
   "outputs": [
    {
     "data": {
      "text/plain": [
       "BaggingClassifier(base_estimator=ExtraTreesClassifier(bootstrap=False,\n",
       "                                                      class_weight='balanced',\n",
       "                                                      criterion='gini',\n",
       "                                                      max_depth=None,\n",
       "                                                      max_features='auto',\n",
       "                                                      max_leaf_nodes=None,\n",
       "                                                      min_impurity_decrease=0.0,\n",
       "                                                      min_impurity_split=None,\n",
       "                                                      min_samples_leaf=1,\n",
       "                                                      min_samples_split=2,\n",
       "                                                      min_weight_fraction_leaf=0.0,\n",
       "                                                      n_estimators=50,\n",
       "                                                      n_jobs=None,\n",
       "                                                      oob_score=False,\n",
       "                                                      random_state=None,\n",
       "                                                      verbose=0,\n",
       "                                                      warm_start=False),\n",
       "                  bootstrap=True, bootstrap_features=False, max_features=1.0,\n",
       "                  max_samples=1.0, n_estimators=10, n_jobs=None,\n",
       "                  oob_score=False, random_state=None, verbose=0,\n",
       "                  warm_start=False)"
      ]
     },
     "execution_count": 53,
     "metadata": {},
     "output_type": "execute_result"
    }
   ],
   "source": [
    "bagging_clf"
   ]
  },
  {
   "cell_type": "code",
   "execution_count": 54,
   "metadata": {
    "scrolled": true
   },
   "outputs": [],
   "source": [
    "#Preparación de arreglo de salida clasificada\n",
    "n_samples = rows*cols\n",
    "flat_pixels = bands_data.reshape((n_samples, n_bands))\n",
    "flat_pixels\n",
    "#Máscara remplazo de los valores nan por valor no data\n",
    "mask_nan=np.isnan(flat_pixels)\n",
    "flat_pixels[mask_nan]=-9999\n",
    "result = bagging_clf.predict(flat_pixels)\n",
    "#Guardar resultado en el arreglo \"classification1\"\n",
    "classification1 = result.reshape((rows, cols))"
   ]
  },
  {
   "cell_type": "markdown",
   "metadata": {},
   "source": [
    "#### Máscara de Bosque no Bosque consultada en el cubo se reemplazan los valores correspondientes al bosque por valores nan"
   ]
  },
  {
   "cell_type": "code",
   "execution_count": 55,
   "metadata": {},
   "outputs": [],
   "source": [
    "fnf_mas=np.isin(_data3[\"fnf_mask\"].values[0]==1, np.nan)"
   ]
  },
  {
   "cell_type": "code",
   "execution_count": 56,
   "metadata": {},
   "outputs": [],
   "source": [
    "classification=np.where(_data3[\"fnf_mask\"].values[0]==1,np.nan,classification1)"
   ]
  },
  {
   "cell_type": "markdown",
   "metadata": {},
   "source": [
    "#### Preparar salida  de clasificación en formato tiff"
   ]
  },
  {
   "cell_type": "code",
   "execution_count": 62,
   "metadata": {},
   "outputs": [],
   "source": [
    "##Los archivos de salida se almacenarán en la carpeta que se crea a continuación con el nombre \"output\", debe cambiarse el nombre de la salida despues del \"/\" de la carpeta \"output/\" a su preferencia como se presenta en la linea de ejemplo, la salida quedará en formato tiff \"/output/salida_bagg.tiff\"\n",
    "!mkdir -p output\n",
    "exportar(\"output/salida_bagg_med_fnf_00304.tiff\", classification, geo_transform, proj)"
   ]
  },
  {
   "cell_type": "markdown",
   "metadata": {},
   "source": [
    "### Primera validación con algoritmo de Ensamble Bagging"
   ]
  },
  {
   "cell_type": "code",
   "execution_count": 63,
   "metadata": {},
   "outputs": [
    {
     "data": {
      "text/plain": [
       "['/home/cubo/jupyter/500/TRAIN/Cuerpos Agua.shp',\n",
       " '/home/cubo/jupyter/500/TRAIN/Cultivos.shp',\n",
       " '/home/cubo/jupyter/500/TRAIN/Pastos.shp',\n",
       " '/home/cubo/jupyter/500/TRAIN/Zona_Pantanosa.shp']"
      ]
     },
     "execution_count": 63,
     "metadata": {},
     "output_type": "execute_result"
    }
   ],
   "source": [
    "#Se llamarán los shapefile definidos para el entrenamiento del algoritmo y que se designaron en la ruta de \"validation_data_path\"\n",
    "files = [f for f in os.listdir(validation_data_path) if f.endswith('.shp')]\n",
    "classes = [f.split('.')[0] for f in files]\n",
    "shapefiles2 = [os.path.join(validation_data_path, f) for f in files if f.endswith('.shp')]\n",
    "shapefiles2.sort()\n",
    "shapefiles2"
   ]
  },
  {
   "cell_type": "code",
   "execution_count": 64,
   "metadata": {},
   "outputs": [
    {
     "name": "stdout",
     "output_type": "stream",
     "text": [
      "CPU times: user 44 ms, sys: 8 ms, total: 52 ms\n",
      "Wall time: 49 ms\n"
     ]
    }
   ],
   "source": [
    "%%time\n",
    "verification_pixels = rasterizar_entrenamiento(shapefiles2, rows, cols, geo_transform, proj)\n",
    "for_verification = np.nonzero(verification_pixels)\n",
    "verification_labels = verification_pixels[for_verification]\n",
    "predicted_labels = classification[for_verification]"
   ]
  },
  {
   "cell_type": "code",
   "execution_count": 65,
   "metadata": {},
   "outputs": [],
   "source": [
    "verification_labels = np.array(verification_labels,dtype='int64')\n",
    "predicted_labels = np.array(predicted_labels,dtype='int64')"
   ]
  },
  {
   "cell_type": "code",
   "execution_count": 66,
   "metadata": {},
   "outputs": [
    {
     "data": {
      "text/plain": [
       "array([-9223372036854775808,                    1,                    2,\n",
       "                          3,                    4])"
      ]
     },
     "execution_count": 66,
     "metadata": {},
     "output_type": "execute_result"
    }
   ],
   "source": [
    "unique_labels(predicted_labels)"
   ]
  },
  {
   "cell_type": "code",
   "execution_count": 68,
   "metadata": {},
   "outputs": [],
   "source": [
    "#En caso de que se obtengan valores de entrenamiento o \"predicted_labels\" diferentes de las clases inicialmente ingresadas estos valore se deberan enviar a alguna de las clases existentes\n",
    "#como se muestra a continuación \"mk_training_labels\" será la mascara que envie los valores diferentes a la clase que eligamos y se debera indicar en reemplazando el valor para el ejemplo corresponde al número \"1\" y en la sección \"verification_labels[predicted_labels]= 11\" en el valor númerico \"11\" se asigna a la clase que se desee. \n",
    "mk_predicted_labels = (predicted_labels < 1)\n",
    "predicted_labels[mk_predicted_labels]= 1"
   ]
  },
  {
   "cell_type": "code",
   "execution_count": 69,
   "metadata": {
    "scrolled": true
   },
   "outputs": [],
   "source": [
    "#En caso de que se obtengan valores de entrenamiento o \"predicted_labels\" diferentes de las clases inicialmente ingresadas estos valore se deberan enviar a alguna de las clases existentes\n",
    "#como se muestra a continuación \"mk_training_labels\" será la mascara que envie los valores diferentes a la clase que eligamos y se debera indicar en reemplazando el valor para el ejemplo corresponde al número \"1\" y en la sección \"verification_labels[predicted_labels]= 11\" en el valor númerico \"11\" se asigna a la clase que se desee. \n",
    "mk_verification_labels = (verification_labels > 4)\n",
    "verification_labels[mk_verification_labels]= 4"
   ]
  },
  {
   "cell_type": "code",
   "execution_count": 70,
   "metadata": {},
   "outputs": [
    {
     "data": {
      "text/plain": [
       "array([1, 2, 3, 4])"
      ]
     },
     "execution_count": 70,
     "metadata": {},
     "output_type": "execute_result"
    }
   ],
   "source": [
    "unique_labels(verification_labels)"
   ]
  },
  {
   "cell_type": "code",
   "execution_count": 71,
   "metadata": {},
   "outputs": [
    {
     "data": {
      "text/plain": [
       "array([1, 2, 3, 4])"
      ]
     },
     "execution_count": 71,
     "metadata": {},
     "output_type": "execute_result"
    }
   ],
   "source": [
    "unique_labels(predicted_labels)"
   ]
  },
  {
   "cell_type": "code",
   "execution_count": 72,
   "metadata": {},
   "outputs": [
    {
     "data": {
      "text/plain": [
       "array([[436,  20,   7, 167],\n",
       "       [  4, 374, 172,  54],\n",
       "       [  3, 117, 502,  10],\n",
       "       [ 92,  25,  48, 473]])"
      ]
     },
     "execution_count": 72,
     "metadata": {},
     "output_type": "execute_result"
    }
   ],
   "source": [
    "#Generación de matriz de confusión con las clases ingresadas en el shapefile \n",
    "sklearn.metrics.confusion_matrix(verification_labels,predicted_labels)"
   ]
  },
  {
   "cell_type": "code",
   "execution_count": 73,
   "metadata": {},
   "outputs": [],
   "source": [
    "#Enumeración o asignación de clases que se emplearon en el algoritmo de clasificación\n",
    "#Se deberá realizar la asignación de nombre a cada clase que se empleo cambiando la información que se encuentra entre comillas para el ejemplo \"ejemplo\"\n",
    "classe = np.array(['','111',\n",
    " '231',                  \n",
    " '233',\n",
    " '311123'])"
   ]
  },
  {
   "cell_type": "code",
   "execution_count": null,
   "metadata": {},
   "outputs": [],
   "source": []
  },
  {
   "cell_type": "markdown",
   "metadata": {},
   "source": [
    "#### Importancia de las variables empleadas en el algoritmo "
   ]
  },
  {
   "cell_type": "code",
   "execution_count": 120,
   "metadata": {},
   "outputs": [],
   "source": [
    "#Importancia de las variables empleadas en el algoritmo Extra Trees\n",
    "model = ExtraTreesClassifier()\n",
    "model.fit(training_samples, training_labels)\n",
    "print(model.feature_importances_)"
   ]
  },
  {
   "cell_type": "code",
   "execution_count": 123,
   "metadata": {},
   "outputs": [
    {
     "data": {
      "text/plain": [
       "[0.03608198168461498,\n",
       " 0.049121814009189864,\n",
       " 0.06210752047643831,\n",
       " 0.037880779531140996,\n",
       " 0.13835123566472327,\n",
       " 0.08865222915998454,\n",
       " 0.04327182604262322,\n",
       " 0.057719365295794384,\n",
       " 0.05448363749768175,\n",
       " 0.05997256519147914,\n",
       " 0.06410840387334561,\n",
       " 0.08687424350069502,\n",
       " 0.05349295450038913,\n",
       " 0.09193417184847848,\n",
       " 0.0759472717234214]"
      ]
     },
     "execution_count": 123,
     "metadata": {},
     "output_type": "execute_result"
    }
   ],
   "source": [
    "list(model.feature_importances_)"
   ]
  },
  {
   "cell_type": "code",
   "execution_count": 124,
   "metadata": {},
   "outputs": [
    {
     "data": {
      "image/png": "[encoded data removed]",
      "text/plain": [
       "<Figure size 432x288 with 1 Axes>"
      ]
     },
     "metadata": {
      "needs_background": "light"
     },
     "output_type": "display_data"
    }
   ],
   "source": [
    "from matplotlib import pyplot\n",
    "pyplot.bar(range(len(model.feature_importances_)), model.feature_importances_)\n",
    "pyplot.show()"
   ]
  },
  {
   "cell_type": "code",
   "execution_count": 125,
   "metadata": {},
   "outputs": [],
   "source": [
    "#Importancia de las variables empleadas en el algoritmo RandomForestClassifier\n",
    "model = RandomForestClassifier()\n",
    "model.fit(training_samples, training_labels)\n",
    "print(model.feature_importances_)\n",
    "print(list(model.feature_importances_))"
   ]
  },
  {
   "cell_type": "code",
   "execution_count": 129,
   "metadata": {},
   "outputs": [
    {
     "data": {
      "image/png": "[encoded data removed]",
      "text/plain": [
       "<Figure size 432x288 with 1 Axes>"
      ]
     },
     "metadata": {
      "needs_background": "light"
     },
     "output_type": "display_data"
    }
   ],
   "source": [
    "from matplotlib import pyplot\n",
    "pyplot.bar(range(len(model.feature_importances_)), model.feature_importances_)\n",
    "pyplot.show()"
   ]
  },
  {
   "cell_type": "code",
   "execution_count": 130,
   "metadata": {},
   "outputs": [],
   "source": [
    "# #Importancia de las variables empleadas en el algoritmo Gradient Boosting Classifier\n",
    "model = GradientBoostingClassifier()\n",
    "model.fit(training_samples, training_labels).\n",
    "print(model.feature_importances_)\n",
    "print(list(model.feature_importances_))"
   ]
  },
  {
   "cell_type": "code",
   "execution_count": 134,
   "metadata": {},
   "outputs": [
    {
     "data": {
      "image/png": "[encoded data removed]",
      "text/plain": [
       "<Figure size 432x288 with 1 Axes>"
      ]
     },
     "metadata": {
      "needs_background": "light"
     },
     "output_type": "display_data"
    }
   ],
   "source": [
    "from matplotlib import pyplot\n",
    "pyplot.bar(range(len(model.feature_importances_)), model.feature_importances_)\n",
    "pyplot.show()"
   ]
  },
  {
   "cell_type": "code",
   "execution_count": 135,
   "metadata": {},
   "outputs": [],
   "source": [
    "# #Importancia de las variables empleadas en el algoritmo Bagging Classifier\n",
    "model = BaggingClassifier()\n",
    "model.fit(training_samples, training_labels).\n",
    "print(model.feature_importances_)\n",
    "print(list(model.feature_importances_))"
   ]
  },
  {
   "cell_type": "code",
   "execution_count": 75,
   "metadata": {
    "scrolled": true
   },
   "outputs": [
    {
     "name": "stdout",
     "output_type": "stream",
     "text": [
      "Coeficiente Precisión\n",
      "0.7128594249201278\n",
      "coeficiente Kappa\n",
      "0.6168876408654659\n"
     ]
    }
   ],
   "source": [
    "print(\"Coeficiente Precisión\")\n",
    "print(sklearn.metrics.accuracy_score(verification_labels, predicted_labels))\n",
    "print(\"coeficiente Kappa\")\n",
    "print (cohen_kappa_score (verification_labels, predicted_labels))"
   ]
  },
  {
   "cell_type": "markdown",
   "metadata": {},
   "source": [
    "### Primera clasificación con algoritmo de Ensamble Voting"
   ]
  },
  {
   "cell_type": "code",
   "execution_count": 76,
   "metadata": {
    "scrolled": true
   },
   "outputs": [
    {
     "name": "stderr",
     "output_type": "stream",
     "text": [
      "[Parallel(n_jobs=-1)]: Using backend LokyBackend with 4 concurrent workers.\n",
      "[Parallel(n_jobs=-1)]: Done 500 out of 500 | elapsed:    1.5s finished\n",
      "[Parallel(n_jobs=4)]: Using backend ThreadingBackend with 4 concurrent workers.\n",
      "[Parallel(n_jobs=4)]: Done  42 tasks      | elapsed:    0.1s\n",
      "[Parallel(n_jobs=4)]: Done 192 tasks      | elapsed:    0.2s\n",
      "[Parallel(n_jobs=4)]: Done 442 tasks      | elapsed:    0.2s\n",
      "[Parallel(n_jobs=4)]: Done 500 out of 500 | elapsed:    0.2s finished\n",
      "[Parallel(n_jobs=-1)]: Using backend LokyBackend with 4 concurrent workers.\n",
      "[Parallel(n_jobs=-1)]: Done 500 out of 500 | elapsed:    0.3s finished\n",
      "[Parallel(n_jobs=4)]: Using backend ThreadingBackend with 4 concurrent workers.\n",
      "[Parallel(n_jobs=4)]: Done  42 tasks      | elapsed:    0.1s\n",
      "[Parallel(n_jobs=4)]: Done 192 tasks      | elapsed:    0.1s\n",
      "[Parallel(n_jobs=4)]: Done 442 tasks      | elapsed:    0.1s\n",
      "[Parallel(n_jobs=4)]: Done 500 out of 500 | elapsed:    0.1s finished\n"
     ]
    },
    {
     "name": "stdout",
     "output_type": "stream",
     "text": [
      "Accuracy: 0.688 ( 0.036) [Random Forest]\n",
      "Mean of: 0.677, std: (+/-) 0.006[VotingClassifier]\n",
      "Mean of: 0.688, std: (+/-) 0.036 [Bagging ExtraTreesClassifier]\n",
      "\n",
      "Accuracy: 0.575 ( 0.002) [Decision Tree]\n",
      "Mean of: 0.677, std: (+/-) 0.006[VotingClassifier]\n",
      "Mean of: 0.575, std: (+/-) 0.002 [Bagging ExtraTreesClassifier]\n",
      "\n",
      "Accuracy: 0.658 ( 0.020) [SVML]\n",
      "Mean of: 0.677, std: (+/-) 0.006[VotingClassifier]\n",
      "Mean of: 0.658, std: (+/-) 0.020 [Bagging ExtraTreesClassifier]\n",
      "\n",
      "Accuracy: 0.674 ( 0.020) [NN]\n",
      "Mean of: 0.677, std: (+/-) 0.006[VotingClassifier]\n",
      "Mean of: 0.674, std: (+/-) 0.020 [Bagging ExtraTreesClassifier]\n",
      "\n"
     ]
    },
    {
     "name": "stderr",
     "output_type": "stream",
     "text": [
      "[Parallel(n_jobs=-1)]: Using backend LokyBackend with 4 concurrent workers.\n",
      "[Parallel(n_jobs=-1)]: Done 500 out of 500 | elapsed:    0.3s finished\n",
      "[Parallel(n_jobs=4)]: Using backend ThreadingBackend with 4 concurrent workers.\n",
      "[Parallel(n_jobs=4)]: Done  42 tasks      | elapsed:    0.1s\n",
      "[Parallel(n_jobs=4)]: Done 192 tasks      | elapsed:    0.1s\n",
      "[Parallel(n_jobs=4)]: Done 442 tasks      | elapsed:    0.1s\n",
      "[Parallel(n_jobs=4)]: Done 500 out of 500 | elapsed:    0.1s finished\n",
      "[Parallel(n_jobs=-1)]: Using backend LokyBackend with 4 concurrent workers.\n",
      "[Parallel(n_jobs=-1)]: Done 500 out of 500 | elapsed:    0.3s finished\n"
     ]
    },
    {
     "name": "stdout",
     "output_type": "stream",
     "text": [
      "Accuracy: 0.676 ( 0.024) [GRADIENT]\n",
      "Mean of: 0.677, std: (+/-) 0.006[VotingClassifier]\n",
      "Mean of: 0.676, std: (+/-) 0.024 [Bagging ExtraTreesClassifier]\n",
      "\n",
      "CPU times: user 49 s, sys: 1.3 s, total: 50.3 s\n",
      "Wall time: 41 s\n"
     ]
    },
    {
     "name": "stderr",
     "output_type": "stream",
     "text": [
      "[Parallel(n_jobs=4)]: Using backend ThreadingBackend with 4 concurrent workers.\n",
      "[Parallel(n_jobs=4)]: Done  42 tasks      | elapsed:    0.0s\n",
      "[Parallel(n_jobs=4)]: Done 192 tasks      | elapsed:    0.0s\n",
      "[Parallel(n_jobs=4)]: Done 442 tasks      | elapsed:    0.1s\n",
      "[Parallel(n_jobs=4)]: Done 500 out of 500 | elapsed:    0.1s finished\n"
     ]
    }
   ],
   "source": [
    "%%time\n",
    "##Cálculo de mediana y desviación estandar correspondiente a la clasificación de cada algoritmo de máquina de aprendizaje comparado con los mismos valores estadísticos empleando el algoritmo de ensamble Bagging que optimiza los valores resultantes de estos algoritmos de máquinas de aprendizaje.\n",
    "##Lista que contienen los algoritmos de máquinas de aprendizaje sobre los cuales se va a iterar\n",
    "clf_array=[rf,dtree,nn,svml,extrat]\n",
    "##Inicio de la clasificación en el ensamble de Voting empleando  los algoritmos definidos al inicio del codigo \n",
    "##Se pueden agregar más algoritmos definiendo las caracteristicas del mismo y asignando un pseudonimo y en comillas sencillas el nombre con el que se identificará\n",
    "eclf = VotingClassifier(estimators=[('Random Forest', rf), ('Decision Tree' , dtree), ('SVML', svml), ('NN', nn),('GRADIENT',grad_boost),('EXTRAT',extrat)])\n",
    "\n",
    "for clf_array, label in zip([rf,dtree,nn,extrat,eclf], ['Random Forest', 'Decision Tree','SVML', 'NN','GRADIENT','EXTRAT', 'Ensemble']):#'NN',\n",
    "    scores = cross_val_score(clf_array, training_samples, training_labels, cv=2, scoring='accuracy')\n",
    "    print(\"Accuracy: %0.3f ( %0.3f) [%s]\" % (scores.mean(), scores.std(), label))\n",
    "    \n",
    "    \n",
    "    print (\"Mean of: {1:.3f}, std: (+/-) {2:.3f}[{0}]\"  \n",
    "                       .format(eclf.__class__.__name__, \n",
    "                       vanilla_scores.mean(), vanilla_scores.std()))\n",
    "    print (\"Mean of: {1:.3f}, std: (+/-) {2:.3f} [Bagging {0}]\\n\"\n",
    "                       .format(clf.__class__.__name__, \n",
    "                        scores.mean(), scores.std()))"
   ]
  },
  {
   "cell_type": "code",
   "execution_count": 77,
   "metadata": {
    "scrolled": true
   },
   "outputs": [
    {
     "name": "stderr",
     "output_type": "stream",
     "text": [
      "[Parallel(n_jobs=-1)]: Using backend LokyBackend with 4 concurrent workers.\n",
      "[Parallel(n_jobs=-1)]: Done 500 out of 500 | elapsed:    0.5s finished\n"
     ]
    },
    {
     "name": "stdout",
     "output_type": "stream",
     "text": [
      "CPU times: user 36.1 s, sys: 0 ns, total: 36.1 s\n",
      "Wall time: 34.3 s\n"
     ]
    },
    {
     "name": "stderr",
     "output_type": "stream",
     "text": [
      "[Parallel(n_jobs=4)]: Using backend ThreadingBackend with 4 concurrent workers.\n",
      "[Parallel(n_jobs=4)]: Done  42 tasks      | elapsed:    0.0s\n",
      "[Parallel(n_jobs=4)]: Done 192 tasks      | elapsed:    0.1s\n",
      "[Parallel(n_jobs=4)]: Done 442 tasks      | elapsed:    0.1s\n",
      "[Parallel(n_jobs=4)]: Done 500 out of 500 | elapsed:    0.1s finished\n"
     ]
    }
   ],
   "source": [
    "%%time\n",
    "eclf.fit(training_samples, training_labels)\n",
    "eclf.score(training_samples, training_labels)"
   ]
  },
  {
   "cell_type": "markdown",
   "metadata": {},
   "source": [
    "#### Exportar Modelo Voting"
   ]
  },
  {
   "cell_type": "code",
   "execution_count": 113,
   "metadata": {},
   "outputs": [
    {
     "data": {
      "text/plain": [
       "['modelo_vot']"
      ]
     },
     "execution_count": 113,
     "metadata": {},
     "output_type": "execute_result"
    }
   ],
   "source": [
    "from sklearn.externals import joblib\n",
    "##Cambiar el nombre del archivo pkl a exportar reemplazando los caracteres que se encuentran entre comillas sencillas\n",
    "joblib.dump(eclf,'modelo_vot')"
   ]
  },
  {
   "cell_type": "code",
   "execution_count": 114,
   "metadata": {},
   "outputs": [
    {
     "name": "stderr",
     "output_type": "stream",
     "text": [
      "[Parallel(n_jobs=4)]: Using backend ThreadingBackend with 4 concurrent workers.\n",
      "[Parallel(n_jobs=4)]: Done  42 tasks      | elapsed:    4.4s\n",
      "[Parallel(n_jobs=4)]: Done 192 tasks      | elapsed:   19.7s\n",
      "[Parallel(n_jobs=4)]: Done 442 tasks      | elapsed:   45.5s\n",
      "[Parallel(n_jobs=4)]: Done 500 out of 500 | elapsed:   51.4s finished\n"
     ]
    }
   ],
   "source": [
    "#Preparación de arreglo de salida clasificada\n",
    "n_samples = rows*cols\n",
    "flat_pixels = bands_data.reshape((n_samples, n_bands))\n",
    "flat_pixels\n",
    "#Máscara remplazo de los valores nan por valor no data\n",
    "mask_nan=np.isnan(flat_pixels)\n",
    "flat_pixels[mask_nan]=-9999\n",
    "result = eclf.predict(flat_pixels)\n",
    "#Guardar resultado en el arreglo \"classification1\"\n",
    "classification1 = result.reshape((rows, cols))"
   ]
  },
  {
   "cell_type": "code",
   "execution_count": 115,
   "metadata": {},
   "outputs": [
    {
     "data": {
      "text/plain": [
       "array([[2, 2, 2, ..., 3, 3, 3],\n",
       "       [2, 2, 2, ..., 3, 3, 3],\n",
       "       [2, 2, 2, ..., 3, 3, 3],\n",
       "       ...,\n",
       "       [2, 2, 2, ..., 2, 2, 3],\n",
       "       [2, 2, 2, ..., 3, 2, 2],\n",
       "       [2, 2, 2, ..., 3, 3, 3]])"
      ]
     },
     "execution_count": 115,
     "metadata": {},
     "output_type": "execute_result"
    }
   ],
   "source": [
    "classification1"
   ]
  },
  {
   "cell_type": "markdown",
   "metadata": {},
   "source": [
    "#### Máscara de Bosque no Bosque consultada en el cubo se reemplazan los valores correspondientes al bosque por valores nan"
   ]
  },
  {
   "cell_type": "code",
   "execution_count": null,
   "metadata": {},
   "outputs": [],
   "source": [
    "fnf_mas=np.isin(_data3[\"fnf_mask\"].values[0]==1, np.nan)"
   ]
  },
  {
   "cell_type": "code",
   "execution_count": null,
   "metadata": {},
   "outputs": [],
   "source": [
    "classification=np.where(_data3[\"fnf_mask\"].values[0]==1,np.nan,classification1)"
   ]
  },
  {
   "cell_type": "markdown",
   "metadata": {},
   "source": [
    "#### Preparar salida  de clasificación en formato tiff"
   ]
  },
  {
   "cell_type": "code",
   "execution_count": null,
   "metadata": {},
   "outputs": [],
   "source": [
    "##Los archivos de salida se almacenarán en la carpeta que se crea a continuación con el nombre \"output\", debe cambiarse el nombre de la salida despues del \"/\" de la carpeta \"output/\" a su preferencia como se presenta en la linea de ejemplo, la salida quedará en formato tiff \"/output/salida_bagg.tiff\"\n",
    "!mkdir -p output\n",
    "exportar(\"output/salida_voting_med_fnf_00304.tiff\", classification, geo_transform, proj)"
   ]
  },
  {
   "cell_type": "markdown",
   "metadata": {},
   "source": [
    "#### Importancia de las variables empleadas en el algoritmo "
   ]
  },
  {
   "cell_type": "code",
   "execution_count": 78,
   "metadata": {},
   "outputs": [
    {
     "name": "stdout",
     "output_type": "stream",
     "text": [
      "[0.05980105 0.0502369  0.06648792 0.04542641 0.10995232 0.07919911\n",
      " 0.09755497 0.06764796 0.05637628 0.04029209 0.04357708 0.09018777\n",
      " 0.05541347 0.04892446 0.08892221]\n"
     ]
    }
   ],
   "source": [
    "#Importancia de las variables empleadas en el algoritmo Extra Trees\n",
    "model = ExtraTreesClassifier()\n",
    "model.fit(training_samples, training_labels)\n",
    "print(model.feature_importances_)"
   ]
  },
  {
   "cell_type": "code",
   "execution_count": 79,
   "metadata": {
    "scrolled": true
   },
   "outputs": [
    {
     "data": {
      "image/png": "[encoded data removed]",
      "text/plain": [
       "<Figure size 432x288 with 1 Axes>"
      ]
     },
     "metadata": {
      "needs_background": "light"
     },
     "output_type": "display_data"
    }
   ],
   "source": [
    "from matplotlib import pyplot\n",
    "pyplot.bar(range(len(model.feature_importances_)), model.feature_importances_)\n",
    "pyplot.show()"
   ]
  },
  {
   "cell_type": "code",
   "execution_count": 80,
   "metadata": {},
   "outputs": [
    {
     "name": "stdout",
     "output_type": "stream",
     "text": [
      "[0.0411835  0.06714256 0.07340224 0.03312374 0.10633775 0.08197687\n",
      " 0.07516796 0.05594085 0.06055664 0.06215155 0.0597694  0.09370165\n",
      " 0.05477189 0.06656927 0.06820413]\n",
      "[0.041183497559215416, 0.06714256452785704, 0.07340224324168346, 0.0331237378254729, 0.1063377524162385, 0.0819768718718729, 0.07516795546899672, 0.05594084932995646, 0.06055663696376206, 0.06215154904340868, 0.059769403371355355, 0.09370165292547356, 0.05477189155235398, 0.06656926844762934, 0.06820412545472376]\n"
     ]
    }
   ],
   "source": [
    "#Importancia de las variables empleadas en el algoritmo RandomForestClassifier\n",
    "model = RandomForestClassifier()\n",
    "model.fit(training_samples, training_labels)\n",
    "print(model.feature_importances_)\n",
    "print(list(model.feature_importances_))"
   ]
  },
  {
   "cell_type": "code",
   "execution_count": 81,
   "metadata": {
    "scrolled": true
   },
   "outputs": [
    {
     "data": {
      "image/png": "[encoded data removed]",
      "text/plain": [
       "<Figure size 432x288 with 1 Axes>"
      ]
     },
     "metadata": {
      "needs_background": "light"
     },
     "output_type": "display_data"
    }
   ],
   "source": [
    "from matplotlib import pyplot\n",
    "pyplot.bar(range(len(model.feature_importances_)), model.feature_importances_)\n",
    "pyplot.show()"
   ]
  },
  {
   "cell_type": "code",
   "execution_count": 83,
   "metadata": {
    "scrolled": false
   },
   "outputs": [
    {
     "name": "stdout",
     "output_type": "stream",
     "text": [
      "[0.046832   0.07143174 0.07264577 0.02016085 0.14434485 0.12790439\n",
      " 0.14253418 0.0080893  0.01601641 0.07510683 0.01562455 0.13658666\n",
      " 0.0329071  0.04370286 0.04611251]\n",
      "[0.04683200144980136, 0.07143173672273892, 0.07264576778867153, 0.02016085098197053, 0.1443448502252801, 0.12790439290086095, 0.14253418065114887, 0.008089298322539733, 0.016016408374717288, 0.07510683294703689, 0.01562455475559815, 0.13658666009170667, 0.032907096813641935, 0.043702858020965865, 0.046112509953321265]\n"
     ]
    }
   ],
   "source": [
    "# #Importancia de las variables empleadas en el algoritmo Gradient Boosting Classifier\n",
    "model = GradientBoostingClassifier()\n",
    "model.fit(training_samples, training_labels)\n",
    "print(model.feature_importances_)\n",
    "print(list(model.feature_importances_))"
   ]
  },
  {
   "cell_type": "code",
   "execution_count": 84,
   "metadata": {
    "scrolled": true
   },
   "outputs": [
    {
     "data": {
      "image/png": "[encoded data removed]",
      "text/plain": [
       "<Figure size 432x288 with 1 Axes>"
      ]
     },
     "metadata": {
      "needs_background": "light"
     },
     "output_type": "display_data"
    }
   ],
   "source": [
    "from matplotlib import pyplot\n",
    "pyplot.bar(range(len(model.feature_importances_)), model.feature_importances_)\n",
    "pyplot.show()"
   ]
  },
  {
   "cell_type": "code",
   "execution_count": 88,
   "metadata": {
    "scrolled": false
   },
   "outputs": [
    {
     "ename": "TypeError",
     "evalue": "__init__() missing 1 required positional argument: 'estimators'",
     "output_type": "error",
     "traceback": [
      "\u001b[0;31m---------------------------------------------------------------------------\u001b[0m",
      "\u001b[0;31mTypeError\u001b[0m                                 Traceback (most recent call last)",
      "\u001b[0;32m<ipython-input-88-1f9f812c628e>\u001b[0m in \u001b[0;36m<module>\u001b[0;34m\u001b[0m\n\u001b[1;32m      1\u001b[0m \u001b[0;31m#VotingClassifier\u001b[0m\u001b[0;34m\u001b[0m\u001b[0;34m\u001b[0m\u001b[0;34m\u001b[0m\u001b[0m\n\u001b[0;32m----> 2\u001b[0;31m \u001b[0mmodel\u001b[0m \u001b[0;34m=\u001b[0m \u001b[0mVotingClassifier\u001b[0m\u001b[0;34m(\u001b[0m\u001b[0;34m)\u001b[0m\u001b[0;34m\u001b[0m\u001b[0;34m\u001b[0m\u001b[0m\n\u001b[0m",
      "\u001b[0;31mTypeError\u001b[0m: __init__() missing 1 required positional argument: 'estimators'"
     ]
    }
   ],
   "source": [
    "# #Importancia de las variables empleadas en el algoritmo Bagging Classifier\n",
    "model = VotingClassifier()\n",
    "model.fit(training_samples, training_labels)\n",
    "print(model.feature_importances_)\n",
    "print(list(model.feature_importances_))"
   ]
  },
  {
   "cell_type": "code",
   "execution_count": 95,
   "metadata": {},
   "outputs": [
    {
     "data": {
      "text/plain": [
       "{'Cuerpos Agua': 1.0, 'Zona_Pantanosa': 2.0, 'Pastos': 3.0, 'Cultivos': 4.0}"
      ]
     },
     "execution_count": 95,
     "metadata": {},
     "output_type": "execute_result"
    }
   ],
   "source": [
    "#Opcional lista de clases correspondientes a los shapefile de validación\n",
    "dict(zip(classes, np.unique(classification)))"
   ]
  },
  {
   "cell_type": "markdown",
   "metadata": {},
   "source": [
    "### Primera validación con algoritmo de Ensamble Voting"
   ]
  },
  {
   "cell_type": "code",
   "execution_count": 96,
   "metadata": {},
   "outputs": [
    {
     "data": {
      "text/plain": [
       "['/home/cubo/jupyter/500/TRAIN/Cuerpos Agua.shp',\n",
       " '/home/cubo/jupyter/500/TRAIN/Cultivos.shp',\n",
       " '/home/cubo/jupyter/500/TRAIN/Pastos.shp',\n",
       " '/home/cubo/jupyter/500/TRAIN/Zona_Pantanosa.shp']"
      ]
     },
     "execution_count": 96,
     "metadata": {},
     "output_type": "execute_result"
    }
   ],
   "source": [
    "files = [f for f in os.listdir(validation_data_path) if f.endswith('.shp')]\n",
    "classes = [f.split('.')[0] for f in files]\n",
    "shapefiles2 = [os.path.join(validation_data_path, f) for f in files if f.endswith('.shp')]\n",
    "shapefiles2.sort()\n",
    "shapefiles2"
   ]
  },
  {
   "cell_type": "code",
   "execution_count": 97,
   "metadata": {},
   "outputs": [],
   "source": [
    "verification_pixels = rasterizar_entrenamiento(shapefiles2, rows, cols, geo_transform, proj)\n",
    "for_verification = np.nonzero(verification_pixels)\n",
    "verification_labels = verification_pixels[for_verification]\n",
    "predicted_labels = classification[for_verification]"
   ]
  },
  {
   "cell_type": "code",
   "execution_count": 103,
   "metadata": {},
   "outputs": [
    {
     "data": {
      "text/plain": [
       "array([1, 2, 3, 4])"
      ]
     },
     "execution_count": 103,
     "metadata": {},
     "output_type": "execute_result"
    }
   ],
   "source": [
    "unique_labels(predicted_labels)"
   ]
  },
  {
   "cell_type": "code",
   "execution_count": 105,
   "metadata": {},
   "outputs": [
    {
     "data": {
      "text/plain": [
       "array([1, 2, 3, 4])"
      ]
     },
     "execution_count": 105,
     "metadata": {},
     "output_type": "execute_result"
    }
   ],
   "source": [
    "unique_labels(verification_labels)"
   ]
  },
  {
   "cell_type": "code",
   "execution_count": 102,
   "metadata": {},
   "outputs": [],
   "source": [
    "#En caso de que se obtengan valores de entrenamiento o \"predicted_labels\" diferentes de las clases inicialmente ingresadas estos valore se deberan enviar a alguna de las clases existentes\n",
    "#como se muestra a continuación \"mk_training_labels\" será la mascara que envie los valores diferentes a la clase que eligamos y se debera indicar en reemplazando el valor para el ejemplo corresponde al número \"1\" y en la sección \"verification_labels[predicted_labels]= 11\" en el valor númerico \"11\" se asigna a la clase que se desee. \n",
    "mk_predicted_labels = (predicted_labels < 1)\n",
    "predicted_labels[mk_predicted_labels]= 1"
   ]
  },
  {
   "cell_type": "code",
   "execution_count": 104,
   "metadata": {},
   "outputs": [],
   "source": [
    "#En caso de que se obtengan valores de entrenamiento o \"predicted_labels\" diferentes de las clases inicialmente ingresadas estos valore se deberan enviar a alguna de las clases existentes\n",
    "#como se muestra a continuación \"mk_training_labels\" será la mascara que envie los valores diferentes a la clase que eligamos y se debera indicar en reemplazando el valor para el ejemplo corresponde al número \"1\" y en la sección \"verification_labels[predicted_labels]= 11\" en el valor númerico \"11\" se asigna a la clase que se desee. \n",
    "mk_verification_labels = (verification_labels > 4)\n",
    "verification_labels[mk_verification_labels]= 4"
   ]
  },
  {
   "cell_type": "code",
   "execution_count": 106,
   "metadata": {},
   "outputs": [],
   "source": [
    "verification_labels = np.array(verification_labels,dtype='int64')\n",
    "predicted_labels = np.array(predicted_labels,dtype='int64')"
   ]
  },
  {
   "cell_type": "code",
   "execution_count": 108,
   "metadata": {},
   "outputs": [
    {
     "data": {
      "text/plain": [
       "array([[438,  18,   6, 168],\n",
       "       [  2, 385, 158,  59],\n",
       "       [  2, 146, 477,   7],\n",
       "       [108,  24,  51, 455]])"
      ]
     },
     "execution_count": 108,
     "metadata": {},
     "output_type": "execute_result"
    }
   ],
   "source": [
    "#Generación de matriz de confusión con las clases ingresadas en el shapefile \n",
    "sklearn.metrics.confusion_matrix(verification_labels,predicted_labels)"
   ]
  },
  {
   "cell_type": "code",
   "execution_count": 109,
   "metadata": {},
   "outputs": [],
   "source": [
    "classe = np.array(['','111',\n",
    " '231',                  \n",
    " '233',\n",
    " '311123'])"
   ]
  },
  {
   "cell_type": "code",
   "execution_count": 110,
   "metadata": {},
   "outputs": [
    {
     "name": "stdout",
     "output_type": "stream",
     "text": [
      "Confusion matrix, without normalization\n",
      "[[438  18   6 168]\n",
      " [  2 385 158  59]\n",
      " [  2 146 477   7]\n",
      " [108  24  51 455]]\n"
     ]
    },
    {
     "data": {
      "text/plain": [
       "<matplotlib.axes._subplots.AxesSubplot at 0x7f31627ae0f0>"
      ]
     },
     "execution_count": 110,
     "metadata": {},
     "output_type": "execute_result"
    },
    {
     "data": {
      "image/png": "[encoded data removed]",
      "text/plain": [
       "<Figure size 432x288 with 2 Axes>"
      ]
     },
     "metadata": {
      "needs_background": "light"
     },
     "output_type": "display_data"
    }
   ],
   "source": [
    "plot_confusion_matrix(verification_labels, predicted_labels, classes=classe,\n",
    "                        title='Confusion matrix, without normalization')"
   ]
  },
  {
   "cell_type": "code",
   "execution_count": null,
   "metadata": {},
   "outputs": [],
   "source": []
  },
  {
   "cell_type": "code",
   "execution_count": 112,
   "metadata": {},
   "outputs": [
    {
     "name": "stdout",
     "output_type": "stream",
     "text": [
      "Coeficiente Precisión\n",
      "0.7008785942492013\n",
      "coeficiente Kappa\n",
      "0.6010005748327092\n"
     ]
    }
   ],
   "source": [
    "print(\"Coeficiente Precisión\")\n",
    "print(sklearn.metrics.accuracy_score(verification_labels, predicted_labels))\n",
    "print(\"coeficiente Kappa\")\n",
    "print (cohen_kappa_score (verification_labels, predicted_labels))"
   ]
  },
  {
   "cell_type": "code",
   "execution_count": null,
   "metadata": {},
   "outputs": [],
   "source": []
  }
 ],
 "metadata": {
  "kernelspec": {
   "display_name": "Python 3",
   "language": "python",
   "name": "python3"
  },
  "language_info": {
   "codemirror_mode": {
    "name": "ipython",
    "version": 3
   },
   "file_extension": ".py",
   "mimetype": "text/x-python",
   "name": "python",
   "nbconvert_exporter": "python",
   "pygments_lexer": "ipython3",
   "version": "3.6.8"
  }
 },
 "nbformat": 4,
 "nbformat_minor": 2
}
